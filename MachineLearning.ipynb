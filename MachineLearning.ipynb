{
 "cells": [
  {
   "cell_type": "code",
   "execution_count": 11,
   "metadata": {},
   "outputs": [
    {
     "data": {
      "text/plain": [
       "1.0"
      ]
     },
     "execution_count": 11,
     "metadata": {},
     "output_type": "execute_result"
    }
   ],
   "source": [
    "# checking the accuracy of your model\n",
    "\n",
    "import pandas as pd\n",
    "from sklearn.tree import DecisionTreeClassifier\n",
    "from sklearn.model_selection import train_test_split\n",
    "from sklearn.metrics import accuracy_score\n",
    "\n",
    "\n",
    "music_data = pd.read_csv('moshpractical.csv')\n",
    "music_data\n",
    "\n",
    "#removing the genere and seperating the input and the output\n",
    "X = music_data.drop(columns=[\"genre\"])\n",
    "y = music_data[\"genre\"]\n",
    "X_train,X_test,y_train,y_test = train_test_split(X,y,test_size = 0.2)# testing the module with only 20 percent\n",
    "\n",
    "\n",
    "# training \n",
    "model = DecisionTreeClassifier()\n",
    "model.fit(X_train, y_train)\n",
    "prediction = model.predict(X_test)\n",
    "\n",
    "\n",
    "#checking the accuracy\n",
    "t = accuracy_score(y_test, prediction)\n",
    "t\n",
    "\n",
    "\n"
   ]
  },
  {
   "cell_type": "code",
   "execution_count": 13,
   "metadata": {},
   "outputs": [
    {
     "data": {
      "text/plain": [
       "array(['HipHop', 'Classical'], dtype=object)"
      ]
     },
     "execution_count": 13,
     "metadata": {},
     "output_type": "execute_result"
    }
   ],
   "source": [
    "import pandas as pd\n",
    "from sklearn.tree import DecisionTreeClassifier\n",
    "\n",
    "music_data = pd.read_csv('moshpractical.csv')\n",
    "\n",
    "# split the input and the output\n",
    "x = music_data.drop(columns = ['genre'])\n",
    "\n",
    "# create output set\n",
    "y= music_data['genre']\n",
    "\n",
    "# using decision tree\n",
    "model = DecisionTreeClassifier()\n",
    "\n",
    "#then you train your model\n",
    "\n",
    "model.fit(x,y)\n",
    "\n",
    "predict = model.predict([[23,1],[33,0]])\n",
    "predict"
   ]
  },
  {
   "cell_type": "markdown",
   "metadata": {},
   "source": [
    "#GREAT LEARNING : WORKING WITH PANDAS AND  NUMPY"
   ]
  },
  {
   "cell_type": "code",
   "execution_count": 15,
   "metadata": {},
   "outputs": [
    {
     "data": {
      "text/plain": [
       "numpy.ndarray"
      ]
     },
     "execution_count": 15,
     "metadata": {},
     "output_type": "execute_result"
    }
   ],
   "source": [
    "# CREATING AN ARRAY\n",
    "import numpy as np\n",
    "n1 = np.array([10,20,30,40])\n",
    "n1\n",
    "type(n1)\n",
    "\n"
   ]
  },
  {
   "cell_type": "code",
   "execution_count": 21,
   "metadata": {},
   "outputs": [
    {
     "data": {
      "text/plain": [
       "array([[0., 0., 0., 0., 0.],\n",
       "       [0., 0., 0., 0., 0.],\n",
       "       [0., 0., 0., 0., 0.],\n",
       "       [0., 0., 0., 0., 0.],\n",
       "       [0., 0., 0., 0., 0.]])"
      ]
     },
     "execution_count": 21,
     "metadata": {},
     "output_type": "execute_result"
    }
   ],
   "source": [
    "# CREATING MULTI-DIMENSIONAL ARRAY\n",
    "import numpy as np\n",
    "#n2 = np.array([[10,20,30,40], [50,60,70,80,90]])\n",
    "#n2\n",
    "\n",
    "#initializing numpy array with zero\n",
    "n3 = np.zeros((1,2))\n",
    "n3\n",
    "\n",
    "#eg2\n",
    "n4 = np.zeros((5,5))\n",
    "n4"
   ]
  }
 ],
 "metadata": {
  "kernelspec": {
   "display_name": "Python 3",
   "language": "python",
   "name": "python3"
  },
  "language_info": {
   "codemirror_mode": {
    "name": "ipython",
    "version": 3
   },
   "file_extension": ".py",
   "mimetype": "text/x-python",
   "name": "python",
   "nbconvert_exporter": "python",
   "pygments_lexer": "ipython3",
   "version": "3.8.5"
  }
 },
 "nbformat": 4,
 "nbformat_minor": 4
}
